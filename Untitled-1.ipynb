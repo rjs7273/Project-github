{
 "cells": [
  {
   "cell_type": "code",
   "execution_count": 1,
   "metadata": {},
   "outputs": [],
   "source": [
    "import pandas as pd\n",
    "import numpy as np\n",
    "import requests\n",
    "from bs4 import BeautifulSoup\n",
    "import datetime as dt\n",
    "from urllib.request import urlopen, Request\n",
    "import selenium\n",
    "from selenium import webdriver\n",
    "from selenium.webdriver.common.by import By # 셀레니움 4.0부터 포함된 객체(모듈)\n",
    "from selenium.webdriver.chrome.service import Service\n",
    "from webdriver_manager.chrome import ChromeDriverManager\n",
    "import warnings\n",
    "warnings.filterwarnings('ignore')\n",
    "from IPython.core.interactiveshell import InteractiveShell\n",
    "InteractiveShell.ast_note_interactivity=\"all\""
   ]
  },
  {
   "cell_type": "code",
   "execution_count": null,
   "metadata": {},
   "outputs": [],
   "source": [
    "#url = 'https://tossinvest.com/stocks/A005930/community' #토스증권 삼성전자 url\n",
    "#htmls = urlopen(url)\n",
    "#bs = BeautifulSoup(htmls, \"html.parser\")"
   ]
  },
  {
   "cell_type": "code",
   "execution_count": 20,
   "metadata": {},
   "outputs": [
    {
     "name": "stdout",
     "output_type": "stream",
     "text": [
      "None\n"
     ]
    }
   ],
   "source": [
    "items = bs.find('h2', {'class':'tw-1r5dc8g0 _1p19xcx0'})\n",
    "print(items)"
   ]
  },
  {
   "cell_type": "code",
   "execution_count": 6,
   "metadata": {},
   "outputs": [],
   "source": [
    "chrome_options = webdriver.ChromeOptions() # 크롬브라우저를 컨트롤하는 드라이버 옵션 생성\n",
    "browser = webdriver.Chrome(service=Service(ChromeDriverManager().install()), options=chrome_options)\n",
    "url = \"https://tossinvest.com/stocks/A005930/community\"\n",
    "browser.get(url)\n",
    "browser.implicitly_wait(10)"
   ]
  },
  {
   "cell_type": "code",
   "execution_count": 7,
   "metadata": {},
   "outputs": [
    {
     "data": {
      "text/plain": [
       "'삼성전자 커뮤니티'"
      ]
     },
     "execution_count": 7,
     "metadata": {},
     "output_type": "execute_result"
    }
   ],
   "source": [
    "stock_item = browser.find_element(By.CSS_SELECTOR, 'h2.tw-1r5dc8g0._1p19xcx0')\n",
    "stock_item.text"
   ]
  },
  {
   "cell_type": "code",
   "execution_count": 8,
   "metadata": {},
   "outputs": [
    {
     "data": {
      "text/plain": [
       "'삼성전자'"
      ]
     },
     "execution_count": 8,
     "metadata": {},
     "output_type": "execute_result"
    }
   ],
   "source": [
    "stock_item2 = browser.find_element(By.XPATH, '//*[@id=\"__next\"]/div[1]/div[1]/main/div/div/div/div[3]/div/div[3]/div[1]/span[1]')\n",
    "stock_item2.text"
   ]
  },
  {
   "cell_type": "code",
   "execution_count": null,
   "metadata": {},
   "outputs": [],
   "source": [
    "# 버튼을 클릭해서 인기순 정렬 최신순으로 변경해야함\n",
    "sort_button = browser.find_element(By.CSS_SELECTOR, 'section._1m9brd0 > button')\n",
    "sort_std = sort_button.get_attribute('data-contents-label')\n",
    "if sort_std == \"인기순\":\n",
    "    sort_button.click()\n",
    "if sort_std == \"최신순\":\n",
    "    print('현재 정렬이 최신순입니다.')"
   ]
  },
  {
   "cell_type": "code",
   "execution_count": null,
   "metadata": {},
   "outputs": [
    {
     "name": "stdout",
     "output_type": "stream",
     "text": [
      "1416\n",
      "2992\n",
      "4568\n",
      "6869\n",
      "9328\n",
      "10919\n",
      "12774\n",
      "14530\n",
      "16340\n",
      "17874\n",
      "19793\n",
      "21525\n",
      "24304\n",
      "26697\n",
      "28662\n",
      "30417\n",
      "32373\n",
      "34063\n",
      "35740\n",
      "37500\n"
     ]
    }
   ],
   "source": [
    "import time\n",
    "from selenium.webdriver.common.keys import Keys\n",
    "\n",
    "# 스크롤 전 높이 확인(자바 스크립트 명령어 실행)\n",
    "'window.scrollY' # y 스크롤바의 현재 위치값을 저장하고 속성\n",
    "'return window.scrollY' #자바 스크립트 코드 실행(웹드라이버객체 통해서 실행 : execute_script())\n",
    "before_h = browser.execute_script('return window.scrollY')\n",
    "before_h\n",
    "# y스크롤바 변경후에 before_h와 변경된 y스크롤 위치를 비교해서 변화가 없으면 중지\n",
    "\n",
    "for i in range(0,20):\n",
    "    # 현재 화면의 가장 아래로 스크롤(end키 전송)\n",
    "    browser.find_element(By.CSS_SELECTOR, 'body').send_keys(Keys.END)\n",
    "     #스크롤 사이 페이지 로딩시간 추가\n",
    "    time.sleep(1)\n",
    "\n",
    "    #스크롤 후 높이 추출 후 하기 전 높이와 비교\n",
    "    after_h = browser.execute_script('return window.scrollY')\n",
    "    print(after_h)\n",
    "    if after_h == before_h : \n",
    "        break\n",
    "    before_h = after_h \n",
    "    \n",
    "####날짜별 게시물 sorting기능이 있나?"
   ]
  },
  {
   "cell_type": "code",
   "execution_count": null,
   "metadata": {},
   "outputs": [],
   "source": [
    "# 화면 정보 수집\n",
    "# id\n",
    "# 시간\n",
    "# 주주 / 비주주 구분\n",
    "# 댓글내용\n",
    "\n",
    "# section data-section-name=\"게시글\" (커뮤니티 전체 section)\n",
    "# div class='_1p19xcx1' data-index=\"2\" 부터 시작함\n",
    "    # //*[@id=\"stock-content\"]/div/div/section/section/ul/div/div[3]/article/div/a/span[2]/span\n",
    "    #stock-content > div > div > section > section > ul > div > div:nth-child(3) > article > div > a > span:nth-child(2) > span"
   ]
  },
  {
   "cell_type": "code",
   "execution_count": null,
   "metadata": {},
   "outputs": [],
   "source": []
  }
 ],
 "metadata": {
  "kernelspec": {
   "display_name": "deScrap",
   "language": "python",
   "name": "descrap"
  },
  "language_info": {
   "codemirror_mode": {
    "name": "ipython",
    "version": 3
   },
   "file_extension": ".py",
   "mimetype": "text/x-python",
   "name": "python",
   "nbconvert_exporter": "python",
   "pygments_lexer": "ipython3",
   "version": "3.12.7"
  }
 },
 "nbformat": 4,
 "nbformat_minor": 2
}
